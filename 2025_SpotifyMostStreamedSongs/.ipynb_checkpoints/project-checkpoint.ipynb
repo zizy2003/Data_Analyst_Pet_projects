{
 "cells": [
  {
   "cell_type": "code",
   "execution_count": 2,
   "id": "07fa4a11-a6b0-4d9d-adfd-745b85d93111",
   "metadata": {},
   "outputs": [],
   "source": [
    "#Libraries import\n",
    "import pandas as pd\n",
    "import numpy as np"
   ]
  },
  {
   "cell_type": "code",
   "execution_count": 5,
   "id": "b9d80c5a-0f0e-43a0-b98a-1d50b75ee357",
   "metadata": {},
   "outputs": [],
   "source": [
    "df = pd.read_csv(\"data.csv\")\n"
   ]
  },
  {
   "cell_type": "code",
   "execution_count": null,
   "id": "461765c4-0ab1-4c9f-851a-19facf43c47c",
   "metadata": {},
   "outputs": [],
   "source": [
    "df.head(10) #Output first 10 lines"
   ]
  },
  {
   "cell_type": "code",
   "execution_count": null,
   "id": "524087fc-87e7-4869-8350-b03823035748",
   "metadata": {},
   "outputs": [],
   "source": [
    "#Removing unnecessary columns\n",
    "df.drop(['mode' , 'danceability_%' , 'cover_url' , 'valence_%' , 'energy_%' , 'acousticness_%' , 'instrumentalness_%' ,  'liveness_%' , 'speechiness_%'] , axis = 1)\n"
   ]
  },
  {
   "cell_type": "code",
   "execution_count": 29,
   "id": "b7c802d7-ea25-4434-9fe9-0d5cf1b87497",
   "metadata": {
    "scrolled": true
   },
   "outputs": [
    {
     "name": "stdout",
     "output_type": "stream",
     "text": [
      "<class 'pandas.core.frame.DataFrame'>\n",
      "RangeIndex: 953 entries, 0 to 952\n",
      "Data columns (total 25 columns):\n",
      " #   Column                Non-Null Count  Dtype \n",
      "---  ------                --------------  ----- \n",
      " 0   track_name            953 non-null    object\n",
      " 1   artist(s)_name        953 non-null    object\n",
      " 2   artist_count          953 non-null    int64 \n",
      " 3   released_year         953 non-null    int64 \n",
      " 4   released_month        953 non-null    int64 \n",
      " 5   released_day          953 non-null    int64 \n",
      " 6   in_spotify_playlists  953 non-null    int64 \n",
      " 7   in_spotify_charts     953 non-null    int64 \n",
      " 8   streams               953 non-null    object\n",
      " 9   in_apple_playlists    953 non-null    int64 \n",
      " 10  in_apple_charts       953 non-null    int64 \n",
      " 11  in_deezer_playlists   953 non-null    object\n",
      " 12  in_deezer_charts      953 non-null    int64 \n",
      " 13  in_shazam_charts      903 non-null    object\n",
      " 14  bpm                   953 non-null    int64 \n",
      " 15  key                   858 non-null    object\n",
      " 16  mode                  953 non-null    object\n",
      " 17  danceability_%        953 non-null    int64 \n",
      " 18  valence_%             953 non-null    int64 \n",
      " 19  energy_%              953 non-null    int64 \n",
      " 20  acousticness_%        953 non-null    int64 \n",
      " 21  instrumentalness_%    953 non-null    int64 \n",
      " 22  liveness_%            953 non-null    int64 \n",
      " 23  speechiness_%         953 non-null    int64 \n",
      " 24  cover_url             953 non-null    object\n",
      "dtypes: int64(17), object(8)\n",
      "memory usage: 186.3+ KB\n"
     ]
    }
   ],
   "source": [
    "df.info() #General dataset information"
   ]
  },
  {
   "cell_type": "code",
   "execution_count": 6,
   "id": "767ac859-22a0-4595-9573-53dbee3bb318",
   "metadata": {},
   "outputs": [
    {
     "data": {
      "text/plain": [
       "artist(s)_name\n",
       "Taylor Swift                   34\n",
       "The Weeknd                     22\n",
       "Bad Bunny                      19\n",
       "SZA                            19\n",
       "Harry Styles                   17\n",
       "                               ..\n",
       "Ludwig Goransson, Foudeqush     1\n",
       "Jin                             1\n",
       "Selena Gomez                    1\n",
       "Feid, Paulo Londra              1\n",
       "Shae Gill, Ali Sethi            1\n",
       "Name: count, Length: 645, dtype: int64"
      ]
     },
     "execution_count": 6,
     "metadata": {},
     "output_type": "execute_result"
    }
   ],
   "source": [
    "#Output of the 10 most popular artists in dataset\n",
    "df['artist(s)_name'].value_counts()\n"
   ]
  },
  {
   "cell_type": "code",
   "execution_count": null,
   "id": "0152ae5f-6beb-4c7d-b70f-77de11e26c03",
   "metadata": {},
   "outputs": [],
   "source": []
  }
 ],
 "metadata": {
  "kernelspec": {
   "display_name": "Python 3 (ipykernel)",
   "language": "python",
   "name": "python3"
  },
  "language_info": {
   "codemirror_mode": {
    "name": "ipython",
    "version": 3
   },
   "file_extension": ".py",
   "mimetype": "text/x-python",
   "name": "python",
   "nbconvert_exporter": "python",
   "pygments_lexer": "ipython3",
   "version": "3.12.7"
  }
 },
 "nbformat": 4,
 "nbformat_minor": 5
}
